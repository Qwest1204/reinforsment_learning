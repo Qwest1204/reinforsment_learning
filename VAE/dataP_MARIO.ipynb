{
 "cells": [
  {
   "cell_type": "code",
   "execution_count": 1,
   "metadata": {},
   "outputs": [],
   "source": [
    "from pathlib import Path\n",
    "from torchvision import transforms\n",
    "from multiprocessing import *\n",
    "import numpy\n",
    "from hashlib import md5\n",
    "from PIL import Image \n",
    "import os\n",
    "import cv2"
   ]
  },
  {
   "cell_type": "code",
   "execution_count": 2,
   "metadata": {},
   "outputs": [],
   "source": [
    "path_to_data = \"/home/qwest/data_for_ml/mario/\"\n",
    "data_path = Path(path_to_data)\n",
    "image_path_list = os.listdir(data_path)"
   ]
  },
  {
   "cell_type": "code",
   "execution_count": 66,
   "metadata": {},
   "outputs": [],
   "source": [
    "absolutle_image = []\n",
    "for p in image_path_list:\n",
    "    #print(p)\n",
    "    png = list(Path(path_to_data+'/'+p+'/').glob(\"*.png\"))\n",
    "    #print(png)\n",
    "    absolutle_image.append(png)"
   ]
  },
  {
   "cell_type": "code",
   "execution_count": 67,
   "metadata": {},
   "outputs": [],
   "source": [
    "transform1 = transforms.Compose([transforms.Resize(110),])"
   ]
  },
  {
   "cell_type": "code",
   "execution_count": 77,
   "metadata": {},
   "outputs": [],
   "source": [
    "for i in absolutle_image[0]:\n",
    "    pass"
   ]
  },
  {
   "cell_type": "code",
   "execution_count": 81,
   "metadata": {},
   "outputs": [
    {
     "name": "stderr",
     "output_type": "stream",
     "text": [
      "100%|██████████| 280/280 [21:09<00:00,  4.53s/it]\n"
     ]
    }
   ],
   "source": [
    "from tqdm import tqdm\n",
    "for i in tqdm(absolutle_image):\n",
    "    for y in i:\n",
    "        byt = cv2.cvtColor(cv2.imread(y), cv2.COLOR_BGR2RGB)\n",
    "        name = md5(byt).hexdigest()[:12]\n",
    "        byt = transform1(Image.fromarray(byt))\n",
    "        byt.save(f'/home/qwest/data_for_ml/MARIO/{name}.png')\n"
   ]
  },
  {
   "cell_type": "code",
   "execution_count": 59,
   "metadata": {},
   "outputs": [],
   "source": [
    "transform1 = transforms.Compose([transforms.Resize(110),\n",
    "])"
   ]
  },
  {
   "cell_type": "code",
   "execution_count": 60,
   "metadata": {},
   "outputs": [],
   "source": [
    "byt = cv2.imread(absolutle_image[0][0])"
   ]
  },
  {
   "cell_type": "code",
   "execution_count": 61,
   "metadata": {},
   "outputs": [],
   "source": [
    "name = md5(byt).hexdigest()[:12]"
   ]
  },
  {
   "cell_type": "code",
   "execution_count": 62,
   "metadata": {},
   "outputs": [],
   "source": [
    "byt = cv2.cvtColor(byt, cv2.COLOR_BGR2RGB)\n",
    "byt = transform1(Image.fromarray(byt))\n"
   ]
  },
  {
   "cell_type": "code",
   "execution_count": 63,
   "metadata": {},
   "outputs": [],
   "source": [
    "byt.save(f'/home/qwest/data_for_ml/MARIO/{hash}.png')"
   ]
  },
  {
   "cell_type": "code",
   "execution_count": null,
   "metadata": {},
   "outputs": [],
   "source": []
  }
 ],
 "metadata": {
  "kernelspec": {
   "display_name": "Python 3",
   "language": "python",
   "name": "python3"
  },
  "language_info": {
   "codemirror_mode": {
    "name": "ipython",
    "version": 3
   },
   "file_extension": ".py",
   "mimetype": "text/x-python",
   "name": "python",
   "nbconvert_exporter": "python",
   "pygments_lexer": "ipython3",
   "version": "3.10.14"
  }
 },
 "nbformat": 4,
 "nbformat_minor": 2
}
