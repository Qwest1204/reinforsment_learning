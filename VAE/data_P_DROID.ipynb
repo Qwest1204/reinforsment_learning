{
 "cells": [
  {
   "cell_type": "code",
   "execution_count": 24,
   "metadata": {},
   "outputs": [
    {
     "name": "stdout",
     "output_type": "stream",
     "text": [
      "/home/qwest/data_for_ml/DROID\n"
     ]
    }
   ],
   "source": [
    "from pathlib import Path\n",
    "from torchvision import transforms\n",
    "from multiprocessing import *\n",
    "import numpy\n",
    "from hashlib import md5\n",
    "from PIL import Image \n",
    "import os\n",
    "import cv2\n",
    "\n",
    "path_to_video = \"/home/qwest/data_for_ml/DROID/\"\n",
    "\n",
    "data_path = Path(path_to_video)\n",
    "\n",
    "print(data_path)\n"
   ]
  },
  {
   "cell_type": "code",
   "execution_count": 25,
   "metadata": {},
   "outputs": [],
   "source": [
    "image_path_list = list(data_path.glob(\"*.mp4\"))"
   ]
  },
  {
   "cell_type": "code",
   "execution_count": 26,
   "metadata": {},
   "outputs": [
    {
     "data": {
      "text/plain": [
       "[PosixPath('/home/qwest/data_for_ml/DROID/00002.mp4'),\n",
       " PosixPath('/home/qwest/data_for_ml/DROID/00001.mp4'),\n",
       " PosixPath('/home/qwest/data_for_ml/DROID/00003.mp4'),\n",
       " PosixPath('/home/qwest/data_for_ml/DROID/00004.mp4'),\n",
       " PosixPath('/home/qwest/data_for_ml/DROID/00006.mp4'),\n",
       " PosixPath('/home/qwest/data_for_ml/DROID/00005.mp4'),\n",
       " PosixPath('/home/qwest/data_for_ml/DROID/00007.mp4')]"
      ]
     },
     "execution_count": 26,
     "metadata": {},
     "output_type": "execute_result"
    }
   ],
   "source": [
    "image_path_list"
   ]
  },
  {
   "cell_type": "code",
   "execution_count": 49,
   "metadata": {},
   "outputs": [
    {
     "ename": "IndexError",
     "evalue": "list index out of range",
     "output_type": "error",
     "traceback": [
      "\u001b[0;31m---------------------------------------------------------------------------\u001b[0m",
      "\u001b[0;31mIndexError\u001b[0m                                Traceback (most recent call last)",
      "Cell \u001b[0;32mIn[49], line 4\u001b[0m\n\u001b[1;32m      1\u001b[0m transform1 \u001b[38;5;241m=\u001b[39m transforms\u001b[38;5;241m.\u001b[39mCompose([transforms\u001b[38;5;241m.\u001b[39mResize(\u001b[38;5;241m64\u001b[39m),\n\u001b[1;32m      2\u001b[0m                                 transforms\u001b[38;5;241m.\u001b[39mCenterCrop(\u001b[38;5;241m64\u001b[39m)])\n\u001b[0;32m----> 4\u001b[0m video_path \u001b[38;5;241m=\u001b[39m \u001b[43mimage_path_list\u001b[49m\u001b[43m[\u001b[49m\u001b[38;5;241;43m8\u001b[39;49m\u001b[43m]\u001b[49m\u001b[38;5;241m.\u001b[39m\u001b[38;5;21m__str__\u001b[39m() \n\u001b[1;32m      5\u001b[0m video \u001b[38;5;241m=\u001b[39m cv2\u001b[38;5;241m.\u001b[39mVideoCapture(video_path)\n\u001b[1;32m      6\u001b[0m success \u001b[38;5;241m=\u001b[39m \u001b[38;5;28;01mTrue\u001b[39;00m\n",
      "\u001b[0;31mIndexError\u001b[0m: list index out of range"
     ]
    }
   ],
   "source": [
    "transform1 = transforms.Compose([transforms.Resize(64),\n",
    "                                transforms.CenterCrop(64)])\n",
    "\n",
    "video_path = image_path_list[8].__str__() \n",
    "video = cv2.VideoCapture(video_path)\n",
    "success = True\n",
    "count = 1\n",
    "image_id = 1\n",
    "while success:\n",
    "            success , frame = video.read()\n",
    "            if success == True:\n",
    "                if count%5 == 0:\n",
    "\n",
    "                    name = str(md5(frame).hexdigest()[:10])+\".jpg\"\n",
    "                    image_id += 1\n",
    "                    if transform1 is not None:\n",
    "                        byt = cv2.cvtColor(frame, cv2.COLOR_BGR2RGB)\n",
    "                        img = transform1(Image.fromarray(byt))\n",
    "            \n",
    "                        img.save(f'/home/qwest/data_for_ml/DROID/9/{image_id}.png')\n",
    "                        #cv2.imwrite(os.path.join('/home/qwest/data_for_ml/test/' , name),frame)\n",
    "                count += 1\n",
    "            else:\n",
    "                break\n"
   ]
  },
  {
   "cell_type": "code",
   "execution_count": 32,
   "metadata": {},
   "outputs": [],
   "source": [
    "traf(0,2)"
   ]
  },
  {
   "cell_type": "code",
   "execution_count": null,
   "metadata": {},
   "outputs": [],
   "source": []
  }
 ],
 "metadata": {
  "kernelspec": {
   "display_name": "Python 3",
   "language": "python",
   "name": "python3"
  },
  "language_info": {
   "codemirror_mode": {
    "name": "ipython",
    "version": 3
   },
   "file_extension": ".py",
   "mimetype": "text/x-python",
   "name": "python",
   "nbconvert_exporter": "python",
   "pygments_lexer": "ipython3",
   "version": "3.10.14"
  }
 },
 "nbformat": 4,
 "nbformat_minor": 2
}
