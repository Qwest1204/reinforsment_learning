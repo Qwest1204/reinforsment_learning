{
 "cells": [
  {
   "cell_type": "code",
   "id": "initial_id",
   "metadata": {
    "collapsed": true,
    "ExecuteTime": {
     "end_time": "2024-09-08T11:42:41.095251Z",
     "start_time": "2024-09-08T11:42:34.402411Z"
    }
   },
   "source": [
    "import numpy as np\n",
    "from numpy.core.numeric import full\n",
    "import torch\n",
    "import torch.nn as nn\n",
    "from torch.nn.modules.activation import Sigmoid\n",
    "from torch.nn.modules.linear import Identity\n",
    "import torchvision\n",
    "from torchvision import transforms\n",
    "from pathlib import Path\n",
    "from torchvision.utils import save_image\n",
    "import torchvision.transforms as T"
   ],
   "outputs": [],
   "execution_count": 1
  },
  {
   "metadata": {
    "ExecuteTime": {
     "end_time": "2024-09-08T11:42:54.163573Z",
     "start_time": "2024-09-08T11:42:54.147448Z"
    }
   },
   "cell_type": "code",
   "source": "print(torch.nn.CosineSimilarity(1))",
   "id": "b8b96cd95dcc2e74",
   "outputs": [
    {
     "name": "stdout",
     "output_type": "stream",
     "text": [
      "CosineSimilarity()\n"
     ]
    }
   ],
   "execution_count": 2
  },
  {
   "metadata": {},
   "cell_type": "code",
   "outputs": [],
   "execution_count": null,
   "source": "",
   "id": "9be2597e5e641e68"
  }
 ],
 "metadata": {
  "kernelspec": {
   "display_name": "Python 3",
   "language": "python",
   "name": "python3"
  },
  "language_info": {
   "codemirror_mode": {
    "name": "ipython",
    "version": 2
   },
   "file_extension": ".py",
   "mimetype": "text/x-python",
   "name": "python",
   "nbconvert_exporter": "python",
   "pygments_lexer": "ipython2",
   "version": "2.7.6"
  }
 },
 "nbformat": 4,
 "nbformat_minor": 5
}
