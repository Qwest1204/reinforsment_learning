{
 "cells": [
  {
   "cell_type": "code",
   "execution_count": 1,
   "metadata": {},
   "outputs": [],
   "source": [
    "path_to_video = \"/mnt/750G/data/v2/video_540ss/\""
   ]
  },
  {
   "cell_type": "code",
   "execution_count": 2,
   "metadata": {},
   "outputs": [
    {
     "name": "stdout",
     "output_type": "stream",
     "text": [
      "/mnt/750G/data/v2/video_540ss\n"
     ]
    }
   ],
   "source": [
    "from pathlib import Path\n",
    "\n",
    "data_path = Path(path_to_video)\n",
    "\n",
    "print(data_path)\n",
    "\n",
    "image_path_list = list(data_path.glob(\"*.mp4\"))"
   ]
  },
  {
   "cell_type": "code",
   "execution_count": 3,
   "metadata": {},
   "outputs": [
    {
     "data": {
      "text/plain": [
       "246"
      ]
     },
     "execution_count": 3,
     "metadata": {},
     "output_type": "execute_result"
    }
   ],
   "source": [
    "len(image_path_list)"
   ]
  },
  {
   "cell_type": "code",
   "execution_count": 4,
   "metadata": {},
   "outputs": [],
   "source": [
    "import os\n",
    "import torch # type: ignore\n",
    "import random\n",
    "import itertools\n",
    "import torch.utils # type: ignore\n",
    "import torch.utils.data # type: ignore\n",
    "from torchvision.io import VideoReader # type: ignore\n",
    "from torchvision.transforms import transforms as T # type: ignore\n",
    "from torchvision.datasets.folder import make_dataset # type: ignore"
   ]
  },
  {
   "cell_type": "code",
   "execution_count": 5,
   "metadata": {},
   "outputs": [],
   "source": [
    "import numpy as np\n",
    "import pandas as pd\n",
    "import matplotlib.pyplot as plt\n",
    "\n",
    "import torch\n",
    "from torch import nn, optim\n",
    "import torch.nn.functional as F\n",
    "from torchvision import datasets, transforms\n",
    "from torchvision.utils import save_image\n",
    "from torch.utils.data import Dataset, DataLoader\n",
    "from torch.autograd import Variable\n",
    "\n",
    "import cv2\n",
    "from PIL import Image"
   ]
  },
  {
   "cell_type": "code",
   "execution_count": 6,
   "metadata": {},
   "outputs": [],
   "source": [
    "from hashlib import md5\n",
    "from progress.bar import IncrementalBar"
   ]
  },
  {
   "cell_type": "code",
   "execution_count": 7,
   "metadata": {},
   "outputs": [
    {
     "name": "stdout",
     "output_type": "stream",
     "text": [
      "Total Extracted Frames : 16549\n",
      "Total Extracted Frames : 11382\n"
     ]
    }
   ],
   "source": [
    "# import open cv\n",
    "import cv2\n",
    "\n",
    "for i in range(20):\n",
    "    # load the video using path of video ( my video length is 37 sec )\n",
    "    video_path = image_path_list[i].__str__() \n",
    "    video = cv2.VideoCapture(video_path)\n",
    "\n",
    "    success = True\n",
    "    count = 1\n",
    "    image_id = 1\n",
    "    while success:\n",
    "        success , frame = video.read()\n",
    "        if success == True:\n",
    "            \n",
    "            \n",
    "            # i want every 5th frame from video\n",
    "            # thats why i used following line of code\n",
    "            # i dont want all frames from video\n",
    "            # so we can decide the outpt frames count according to us.\n",
    "            \n",
    "            if count%5 == 0:\n",
    "                \n",
    "                # specify the output path and file name\n",
    "                # i used count as a file name\n",
    "                # you can use any\n",
    "                name = str(md5(frame).hexdigest()[:10])+\".jpg\"\n",
    "                image_id += 1\n",
    "                # save the image\n",
    "                cv2.imwrite(os.path.join('/mnt/yankey/TEMP/' , name),frame)\n",
    "            count += 1\n",
    "        else:\n",
    "            break\n",
    "\n",
    "    print(\"Total Extracted Frames :\",image_id) "
   ]
  },
  {
   "cell_type": "code",
   "execution_count": 7,
   "metadata": {},
   "outputs": [
    {
     "data": {
      "text/plain": [
       "{'video': {'fps': [30.0], 'duration': [1896.9666666666667]},\n",
       " 'audio': {'framerate': [48000.0], 'duration': [1896.98]}}"
      ]
     },
     "execution_count": 7,
     "metadata": {},
     "output_type": "execute_result"
    }
   ],
   "source": [
    "stream = \"video\"\n",
    "video = VideoReader(image_path_list[1].__str__(), stream)\n",
    "video.get_metadata()"
   ]
  },
  {
   "cell_type": "code",
   "execution_count": 8,
   "metadata": {},
   "outputs": [
    {
     "name": "stdout",
     "output_type": "stream",
     "text": [
      "cuda\n"
     ]
    }
   ],
   "source": [
    "batch_size = 32\n",
    "\n",
    "device = torch.device(\"cuda\" if torch.cuda.is_available() else \"cpu\")\n",
    "print(device)"
   ]
  },
  {
   "cell_type": "code",
   "execution_count": 9,
   "metadata": {},
   "outputs": [],
   "source": [
    "class DogDataset(Dataset):\n",
    "    def __init__(self, img_dir, transform1=None, transform2=None):\n",
    "    \n",
    "        self.img_dir = img_dir\n",
    "        self.img_names = os.listdir(img_dir)\n",
    "        self.transform1 = transform1\n",
    "        self.transform2 = transform2\n",
    "        \n",
    "        self.imgs = []\n",
    "        for img_name in self.img_names:\n",
    "            img = Image.open(os.path.join(img_dir, img_name))\n",
    "            \n",
    "            if self.transform1 is not None:\n",
    "                img = self.transform1(img)\n",
    "                \n",
    "            self.imgs.append(img)\n",
    "\n",
    "    def __getitem__(self, index):\n",
    "        img = self.imgs[index]\n",
    "        \n",
    "        if self.transform2 is not None:\n",
    "            img = self.transform2(img)\n",
    "        \n",
    "        return img\n",
    "\n",
    "    def __len__(self):\n",
    "        return len(self.imgs)\n",
    "        "
   ]
  },
  {
   "cell_type": "code",
   "execution_count": 12,
   "metadata": {},
   "outputs": [],
   "source": [
    "# First preprocessing of data\n",
    "transform1 = transforms.Compose([transforms.Resize(64),\n",
    "                                transforms.CenterCrop(64)])\n",
    "\n",
    "# Data augmentation and converting to tensors\n",
    "#random_transforms = [transforms.RandomRotation(degrees=10)]\n",
    "transform2 = transforms.Compose([transforms.RandomHorizontalFlip(p=0.5),\n",
    "                                 #transforms.RandomApply(random_transforms, p=0.3), \n",
    "                                 transforms.ToTensor(),\n",
    "                                 #transforms.Normalize((0.5, 0.5, 0.5), (0.5, 0.5, 0.5))\n",
    "                                 ])\n",
    "                                 \n",
    "train_dataset = DogDataset(img_dir='/mnt/yankey/TEMP/image_from_video_540ss/',\n",
    "                           transform1=transform1,\n",
    "                           transform2=transform2)\n",
    "\n",
    "train_loader = DataLoader(dataset=train_dataset,\n",
    "                          batch_size=batch_size,\n",
    "                          shuffle=True,\n",
    "                          num_workers=8)"
   ]
  },
  {
   "cell_type": "code",
   "execution_count": 17,
   "metadata": {},
   "outputs": [
    {
     "data": {
      "application/vnd.plotly.v1+json": {
       "config": {
        "plotlyServerURL": "https://plot.ly"
       },
       "data": [
        {
         "hovertemplate": "x: %{x}<br>y: %{y}<extra></extra>",
         "name": "0",
         "source": "data:image/png;base64,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",
         "type": "image",
         "xaxis": "x",
         "yaxis": "y"
        }
       ],
       "layout": {
        "margin": {
         "t": 60
        },
        "template": {
         "data": {
          "bar": [
           {
            "error_x": {
             "color": "#2a3f5f"
            },
            "error_y": {
             "color": "#2a3f5f"
            },
            "marker": {
             "line": {
              "color": "#E5ECF6",
              "width": 0.5
             },
             "pattern": {
              "fillmode": "overlay",
              "size": 10,
              "solidity": 0.2
             }
            },
            "type": "bar"
           }
          ],
          "barpolar": [
           {
            "marker": {
             "line": {
              "color": "#E5ECF6",
              "width": 0.5
             },
             "pattern": {
              "fillmode": "overlay",
              "size": 10,
              "solidity": 0.2
             }
            },
            "type": "barpolar"
           }
          ],
          "carpet": [
           {
            "aaxis": {
             "endlinecolor": "#2a3f5f",
             "gridcolor": "white",
             "linecolor": "white",
             "minorgridcolor": "white",
             "startlinecolor": "#2a3f5f"
            },
            "baxis": {
             "endlinecolor": "#2a3f5f",
             "gridcolor": "white",
             "linecolor": "white",
             "minorgridcolor": "white",
             "startlinecolor": "#2a3f5f"
            },
            "type": "carpet"
           }
          ],
          "choropleth": [
           {
            "colorbar": {
             "outlinewidth": 0,
             "ticks": ""
            },
            "type": "choropleth"
           }
          ],
          "contour": [
           {
            "colorbar": {
             "outlinewidth": 0,
             "ticks": ""
            },
            "colorscale": [
             [
              0,
              "#0d0887"
             ],
             [
              0.1111111111111111,
              "#46039f"
             ],
             [
              0.2222222222222222,
              "#7201a8"
             ],
             [
              0.3333333333333333,
              "#9c179e"
             ],
             [
              0.4444444444444444,
              "#bd3786"
             ],
             [
              0.5555555555555556,
              "#d8576b"
             ],
             [
              0.6666666666666666,
              "#ed7953"
             ],
             [
              0.7777777777777778,
              "#fb9f3a"
             ],
             [
              0.8888888888888888,
              "#fdca26"
             ],
             [
              1,
              "#f0f921"
             ]
            ],
            "type": "contour"
           }
          ],
          "contourcarpet": [
           {
            "colorbar": {
             "outlinewidth": 0,
             "ticks": ""
            },
            "type": "contourcarpet"
           }
          ],
          "heatmap": [
           {
            "colorbar": {
             "outlinewidth": 0,
             "ticks": ""
            },
            "colorscale": [
             [
              0,
              "#0d0887"
             ],
             [
              0.1111111111111111,
              "#46039f"
             ],
             [
              0.2222222222222222,
              "#7201a8"
             ],
             [
              0.3333333333333333,
              "#9c179e"
             ],
             [
              0.4444444444444444,
              "#bd3786"
             ],
             [
              0.5555555555555556,
              "#d8576b"
             ],
             [
              0.6666666666666666,
              "#ed7953"
             ],
             [
              0.7777777777777778,
              "#fb9f3a"
             ],
             [
              0.8888888888888888,
              "#fdca26"
             ],
             [
              1,
              "#f0f921"
             ]
            ],
            "type": "heatmap"
           }
          ],
          "heatmapgl": [
           {
            "colorbar": {
             "outlinewidth": 0,
             "ticks": ""
            },
            "colorscale": [
             [
              0,
              "#0d0887"
             ],
             [
              0.1111111111111111,
              "#46039f"
             ],
             [
              0.2222222222222222,
              "#7201a8"
             ],
             [
              0.3333333333333333,
              "#9c179e"
             ],
             [
              0.4444444444444444,
              "#bd3786"
             ],
             [
              0.5555555555555556,
              "#d8576b"
             ],
             [
              0.6666666666666666,
              "#ed7953"
             ],
             [
              0.7777777777777778,
              "#fb9f3a"
             ],
             [
              0.8888888888888888,
              "#fdca26"
             ],
             [
              1,
              "#f0f921"
             ]
            ],
            "type": "heatmapgl"
           }
          ],
          "histogram": [
           {
            "marker": {
             "pattern": {
              "fillmode": "overlay",
              "size": 10,
              "solidity": 0.2
             }
            },
            "type": "histogram"
           }
          ],
          "histogram2d": [
           {
            "colorbar": {
             "outlinewidth": 0,
             "ticks": ""
            },
            "colorscale": [
             [
              0,
              "#0d0887"
             ],
             [
              0.1111111111111111,
              "#46039f"
             ],
             [
              0.2222222222222222,
              "#7201a8"
             ],
             [
              0.3333333333333333,
              "#9c179e"
             ],
             [
              0.4444444444444444,
              "#bd3786"
             ],
             [
              0.5555555555555556,
              "#d8576b"
             ],
             [
              0.6666666666666666,
              "#ed7953"
             ],
             [
              0.7777777777777778,
              "#fb9f3a"
             ],
             [
              0.8888888888888888,
              "#fdca26"
             ],
             [
              1,
              "#f0f921"
             ]
            ],
            "type": "histogram2d"
           }
          ],
          "histogram2dcontour": [
           {
            "colorbar": {
             "outlinewidth": 0,
             "ticks": ""
            },
            "colorscale": [
             [
              0,
              "#0d0887"
             ],
             [
              0.1111111111111111,
              "#46039f"
             ],
             [
              0.2222222222222222,
              "#7201a8"
             ],
             [
              0.3333333333333333,
              "#9c179e"
             ],
             [
              0.4444444444444444,
              "#bd3786"
             ],
             [
              0.5555555555555556,
              "#d8576b"
             ],
             [
              0.6666666666666666,
              "#ed7953"
             ],
             [
              0.7777777777777778,
              "#fb9f3a"
             ],
             [
              0.8888888888888888,
              "#fdca26"
             ],
             [
              1,
              "#f0f921"
             ]
            ],
            "type": "histogram2dcontour"
           }
          ],
          "mesh3d": [
           {
            "colorbar": {
             "outlinewidth": 0,
             "ticks": ""
            },
            "type": "mesh3d"
           }
          ],
          "parcoords": [
           {
            "line": {
             "colorbar": {
              "outlinewidth": 0,
              "ticks": ""
             }
            },
            "type": "parcoords"
           }
          ],
          "pie": [
           {
            "automargin": true,
            "type": "pie"
           }
          ],
          "scatter": [
           {
            "fillpattern": {
             "fillmode": "overlay",
             "size": 10,
             "solidity": 0.2
            },
            "type": "scatter"
           }
          ],
          "scatter3d": [
           {
            "line": {
             "colorbar": {
              "outlinewidth": 0,
              "ticks": ""
             }
            },
            "marker": {
             "colorbar": {
              "outlinewidth": 0,
              "ticks": ""
             }
            },
            "type": "scatter3d"
           }
          ],
          "scattercarpet": [
           {
            "marker": {
             "colorbar": {
              "outlinewidth": 0,
              "ticks": ""
             }
            },
            "type": "scattercarpet"
           }
          ],
          "scattergeo": [
           {
            "marker": {
             "colorbar": {
              "outlinewidth": 0,
              "ticks": ""
             }
            },
            "type": "scattergeo"
           }
          ],
          "scattergl": [
           {
            "marker": {
             "colorbar": {
              "outlinewidth": 0,
              "ticks": ""
             }
            },
            "type": "scattergl"
           }
          ],
          "scattermapbox": [
           {
            "marker": {
             "colorbar": {
              "outlinewidth": 0,
              "ticks": ""
             }
            },
            "type": "scattermapbox"
           }
          ],
          "scatterpolar": [
           {
            "marker": {
             "colorbar": {
              "outlinewidth": 0,
              "ticks": ""
             }
            },
            "type": "scatterpolar"
           }
          ],
          "scatterpolargl": [
           {
            "marker": {
             "colorbar": {
              "outlinewidth": 0,
              "ticks": ""
             }
            },
            "type": "scatterpolargl"
           }
          ],
          "scatterternary": [
           {
            "marker": {
             "colorbar": {
              "outlinewidth": 0,
              "ticks": ""
             }
            },
            "type": "scatterternary"
           }
          ],
          "surface": [
           {
            "colorbar": {
             "outlinewidth": 0,
             "ticks": ""
            },
            "colorscale": [
             [
              0,
              "#0d0887"
             ],
             [
              0.1111111111111111,
              "#46039f"
             ],
             [
              0.2222222222222222,
              "#7201a8"
             ],
             [
              0.3333333333333333,
              "#9c179e"
             ],
             [
              0.4444444444444444,
              "#bd3786"
             ],
             [
              0.5555555555555556,
              "#d8576b"
             ],
             [
              0.6666666666666666,
              "#ed7953"
             ],
             [
              0.7777777777777778,
              "#fb9f3a"
             ],
             [
              0.8888888888888888,
              "#fdca26"
             ],
             [
              1,
              "#f0f921"
             ]
            ],
            "type": "surface"
           }
          ],
          "table": [
           {
            "cells": {
             "fill": {
              "color": "#EBF0F8"
             },
             "line": {
              "color": "white"
             }
            },
            "header": {
             "fill": {
              "color": "#C8D4E3"
             },
             "line": {
              "color": "white"
             }
            },
            "type": "table"
           }
          ]
         },
         "layout": {
          "annotationdefaults": {
           "arrowcolor": "#2a3f5f",
           "arrowhead": 0,
           "arrowwidth": 1
          },
          "autotypenumbers": "strict",
          "coloraxis": {
           "colorbar": {
            "outlinewidth": 0,
            "ticks": ""
           }
          },
          "colorscale": {
           "diverging": [
            [
             0,
             "#8e0152"
            ],
            [
             0.1,
             "#c51b7d"
            ],
            [
             0.2,
             "#de77ae"
            ],
            [
             0.3,
             "#f1b6da"
            ],
            [
             0.4,
             "#fde0ef"
            ],
            [
             0.5,
             "#f7f7f7"
            ],
            [
             0.6,
             "#e6f5d0"
            ],
            [
             0.7,
             "#b8e186"
            ],
            [
             0.8,
             "#7fbc41"
            ],
            [
             0.9,
             "#4d9221"
            ],
            [
             1,
             "#276419"
            ]
           ],
           "sequential": [
            [
             0,
             "#0d0887"
            ],
            [
             0.1111111111111111,
             "#46039f"
            ],
            [
             0.2222222222222222,
             "#7201a8"
            ],
            [
             0.3333333333333333,
             "#9c179e"
            ],
            [
             0.4444444444444444,
             "#bd3786"
            ],
            [
             0.5555555555555556,
             "#d8576b"
            ],
            [
             0.6666666666666666,
             "#ed7953"
            ],
            [
             0.7777777777777778,
             "#fb9f3a"
            ],
            [
             0.8888888888888888,
             "#fdca26"
            ],
            [
             1,
             "#f0f921"
            ]
           ],
           "sequentialminus": [
            [
             0,
             "#0d0887"
            ],
            [
             0.1111111111111111,
             "#46039f"
            ],
            [
             0.2222222222222222,
             "#7201a8"
            ],
            [
             0.3333333333333333,
             "#9c179e"
            ],
            [
             0.4444444444444444,
             "#bd3786"
            ],
            [
             0.5555555555555556,
             "#d8576b"
            ],
            [
             0.6666666666666666,
             "#ed7953"
            ],
            [
             0.7777777777777778,
             "#fb9f3a"
            ],
            [
             0.8888888888888888,
             "#fdca26"
            ],
            [
             1,
             "#f0f921"
            ]
           ]
          },
          "colorway": [
           "#636efa",
           "#EF553B",
           "#00cc96",
           "#ab63fa",
           "#FFA15A",
           "#19d3f3",
           "#FF6692",
           "#B6E880",
           "#FF97FF",
           "#FECB52"
          ],
          "font": {
           "color": "#2a3f5f"
          },
          "geo": {
           "bgcolor": "white",
           "lakecolor": "white",
           "landcolor": "#E5ECF6",
           "showlakes": true,
           "showland": true,
           "subunitcolor": "white"
          },
          "hoverlabel": {
           "align": "left"
          },
          "hovermode": "closest",
          "mapbox": {
           "style": "light"
          },
          "paper_bgcolor": "white",
          "plot_bgcolor": "#E5ECF6",
          "polar": {
           "angularaxis": {
            "gridcolor": "white",
            "linecolor": "white",
            "ticks": ""
           },
           "bgcolor": "#E5ECF6",
           "radialaxis": {
            "gridcolor": "white",
            "linecolor": "white",
            "ticks": ""
           }
          },
          "scene": {
           "xaxis": {
            "backgroundcolor": "#E5ECF6",
            "gridcolor": "white",
            "gridwidth": 2,
            "linecolor": "white",
            "showbackground": true,
            "ticks": "",
            "zerolinecolor": "white"
           },
           "yaxis": {
            "backgroundcolor": "#E5ECF6",
            "gridcolor": "white",
            "gridwidth": 2,
            "linecolor": "white",
            "showbackground": true,
            "ticks": "",
            "zerolinecolor": "white"
           },
           "zaxis": {
            "backgroundcolor": "#E5ECF6",
            "gridcolor": "white",
            "gridwidth": 2,
            "linecolor": "white",
            "showbackground": true,
            "ticks": "",
            "zerolinecolor": "white"
           }
          },
          "shapedefaults": {
           "line": {
            "color": "#2a3f5f"
           }
          },
          "ternary": {
           "aaxis": {
            "gridcolor": "white",
            "linecolor": "white",
            "ticks": ""
           },
           "baxis": {
            "gridcolor": "white",
            "linecolor": "white",
            "ticks": ""
           },
           "bgcolor": "#E5ECF6",
           "caxis": {
            "gridcolor": "white",
            "linecolor": "white",
            "ticks": ""
           }
          },
          "title": {
           "x": 0.05
          },
          "xaxis": {
           "automargin": true,
           "gridcolor": "white",
           "linecolor": "white",
           "ticks": "",
           "title": {
            "standoff": 15
           },
           "zerolinecolor": "white",
           "zerolinewidth": 2
          },
          "yaxis": {
           "automargin": true,
           "gridcolor": "white",
           "linecolor": "white",
           "ticks": "",
           "title": {
            "standoff": 15
           },
           "zerolinecolor": "white",
           "zerolinewidth": 2
          }
         }
        },
        "xaxis": {
         "anchor": "y",
         "domain": [
          0,
          1
         ]
        },
        "yaxis": {
         "anchor": "x",
         "domain": [
          0,
          1
         ]
        }
       }
      }
     },
     "metadata": {},
     "output_type": "display_data"
    }
   ],
   "source": [
    "import plotly.express as p\n",
    "x = next(iter(train_loader))\n",
    "x = x[1].permute(1, 2, 0)\n",
    "f = p.imshow(x)\n",
    "f.show()"
   ]
  },
  {
   "cell_type": "code",
   "execution_count": 18,
   "metadata": {},
   "outputs": [],
   "source": [
    "class VAE(nn.Module):\n",
    "    def __init__(self, latent_dim=128, no_of_sample=10, batch_size=32, channels=3):\n",
    "        super(VAE, self).__init__()\n",
    "        \n",
    "        self.no_of_sample = no_of_sample\n",
    "        self.batch_size = batch_size\n",
    "        self.channels = channels\n",
    "        self.latent_dim = latent_dim\n",
    "        \n",
    "        \n",
    "        # Encoder\n",
    "        def convlayer_enc(n_input, n_output, k_size=4, stride=2, padding=1, bn=False):\n",
    "            block = [nn.Conv2d(n_input, n_output, kernel_size=k_size, stride=stride, padding=padding, bias=False)]\n",
    "            if bn:\n",
    "                block.append(nn.BatchNorm2d(n_output))\n",
    "            block.append(nn.LeakyReLU(0.2, inplace=True))\n",
    "            return block\n",
    "        \n",
    "        self.encoder = nn.Sequential(\n",
    "            *convlayer_enc(self.channels, 64, 4, 2, 2),               # (64, 32, 32)\n",
    "            *convlayer_enc(64, 128, 4, 2, 2),                         # (128, 16, 16)\n",
    "            *convlayer_enc(128, 256, 4, 2, 2, bn=True),               # (256, 8, 8)\n",
    "            *convlayer_enc(256, 512, 4, 2, 2, bn=True),               # (512, 4, 4)\n",
    "            nn.Conv2d(512, self.latent_dim*2, 4, 1, 1, bias=False),   # (latent_dim*2, 4, 4)\n",
    "            nn.LeakyReLU(0.2, inplace=True)\n",
    "        )\n",
    "        \n",
    "        \n",
    "        # Decoder\n",
    "        def convlayer_dec(n_input, n_output, k_size=4, stride=2, padding=0):\n",
    "            block = [\n",
    "                nn.ConvTranspose2d(n_input, n_output, kernel_size=k_size, stride=stride, padding=padding, bias=False),\n",
    "                nn.BatchNorm2d(n_output),\n",
    "                nn.ReLU(inplace=True),\n",
    "            ]\n",
    "            return block\n",
    "        \n",
    "        self.decoder = nn.Sequential(\n",
    "            *convlayer_dec(self.latent_dim, 512, 4, 2, 1),           # (512, 8, 8)\n",
    "            *convlayer_dec(512, 256, 4, 2, 1),                       # (256, 16, 16)\n",
    "            *convlayer_dec(256, 128, 4, 2, 1),                       # (128, 32, 32)\n",
    "            *convlayer_dec(128, 64, 4, 2, 1),                        # (64, 64, 64)\n",
    "            nn.ConvTranspose2d(64, self.channels, 3, 1, 1),          # (3, 64, 64)\n",
    "            nn.Sigmoid()\n",
    "        )\n",
    "\n",
    "    def encode(self, x):\n",
    "        '''return mu_z and logvar_z'''\n",
    "        x = self.encoder(x)\n",
    "        return x[:, :self.latent_dim, :, :], x[:, self.latent_dim:, :, :]\n",
    "    \n",
    "    def decode(self, z):\n",
    "        z = self.decoder(z)\n",
    "        return z.view(-1, 3 * 64 * 64)\n",
    "\n",
    "    def reparameterize(self, mu, logvar):\n",
    "        if self.training:\n",
    "            # multiply log variance with 0.5, then in-place exponent\n",
    "            # yielding the standard deviation\n",
    "\n",
    "            sample_z = []\n",
    "            for _ in range(self.no_of_sample):\n",
    "                std = logvar.mul(0.5).exp_()\n",
    "                eps = Variable(std.data.new(std.size()).normal_())\n",
    "                sample_z.append(eps.mul(std).add_(mu))\n",
    "            return sample_z\n",
    "        \n",
    "        else:\n",
    "            return mu\n",
    "\n",
    "    def forward(self, x):\n",
    "        mu, logvar = self.encode(x)\n",
    "        z = self.reparameterize(mu, logvar)\n",
    "        \n",
    "        if self.training:\n",
    "            return [self.decode(z) for z in z], mu, logvar\n",
    "        else:\n",
    "            return self.decode(z), mu, logvar\n",
    "\n",
    "    def loss_function(self, recon_x, x, mu, logvar):\n",
    "\n",
    "        if self.training:\n",
    "            BCE = 0\n",
    "            for recon_x_one in recon_x:\n",
    "                BCE += F.binary_cross_entropy(recon_x_one, x.view(-1, 3 * 64 * 64))\n",
    "            BCE /= len(recon_x)\n",
    "        else:\n",
    "            BCE = F.binary_cross_entropy(recon_x, x.view(-1, 3 * 64 * 64))\n",
    "\n",
    "        KLD = -0.5 * torch.sum(1 + logvar - mu.pow(2) - logvar.exp())\n",
    "        KLD /= self.batch_size * 3 * 64 * 64\n",
    "\n",
    "        return BCE + KLD"
   ]
  },
  {
   "cell_type": "code",
   "execution_count": 19,
   "metadata": {},
   "outputs": [],
   "source": [
    "lr = 0.001\n",
    "epochs = 50\n",
    "latent_dim = 32\n",
    "\n",
    "model = VAE(latent_dim, batch_size=batch_size).to(device)\n",
    "optimizer = optim.Adam(model.parameters(), lr=lr)"
   ]
  },
  {
   "cell_type": "code",
   "execution_count": 20,
   "metadata": {},
   "outputs": [
    {
     "name": "stdout",
     "output_type": "stream",
     "text": [
      "Epoch 1 start\n"
     ]
    },
    {
     "ename": "KeyboardInterrupt",
     "evalue": "",
     "output_type": "error",
     "traceback": [
      "\u001b[0;31m---------------------------------------------------------------------------\u001b[0m",
      "\u001b[0;31mKeyboardInterrupt\u001b[0m                         Traceback (most recent call last)",
      "Cell \u001b[0;32mIn[20], line 7\u001b[0m\n\u001b[1;32m      4\u001b[0m \u001b[38;5;28mprint\u001b[39m(\u001b[38;5;124mf\u001b[39m\u001b[38;5;124m'\u001b[39m\u001b[38;5;124mEpoch \u001b[39m\u001b[38;5;132;01m{\u001b[39;00mepoch\u001b[38;5;132;01m}\u001b[39;00m\u001b[38;5;124m start\u001b[39m\u001b[38;5;124m'\u001b[39m)\n\u001b[1;32m      6\u001b[0m \u001b[38;5;28;01mfor\u001b[39;00m batch_idx, data \u001b[38;5;129;01min\u001b[39;00m \u001b[38;5;28menumerate\u001b[39m(train_loader):\n\u001b[0;32m----> 7\u001b[0m     data \u001b[38;5;241m=\u001b[39m \u001b[43mdata\u001b[49m\u001b[38;5;241;43m.\u001b[39;49m\u001b[43mto\u001b[49m\u001b[43m(\u001b[49m\u001b[43mdevice\u001b[49m\u001b[43m)\u001b[49m\n\u001b[1;32m      8\u001b[0m     optimizer\u001b[38;5;241m.\u001b[39mzero_grad()\n\u001b[1;32m     10\u001b[0m     recon_batch, mu, logvar \u001b[38;5;241m=\u001b[39m model(data)\n",
      "\u001b[0;31mKeyboardInterrupt\u001b[0m: "
     ]
    }
   ],
   "source": [
    "for epoch in range(1, epochs+1):\n",
    "    x = next(iter(train_loader))\n",
    "    model.train()\n",
    "    print(f'Epoch {epoch} start')\n",
    "    \n",
    "    for batch_idx, data in enumerate(train_loader):\n",
    "        data = data.to(device)\n",
    "        optimizer.zero_grad()\n",
    "\n",
    "        recon_batch, mu, logvar = model(data)\n",
    "        loss = model.loss_function(recon_batch, data, mu, logvar)\n",
    "\n",
    "        loss.backward()\n",
    "        optimizer.step()\n",
    "        \n",
    "    model.eval()\n",
    "    recon_img, _, _ = model(x[:1].to(device))\n",
    "    img = recon_img.view(3, 64, 64).detach().cpu().numpy().transpose(1, 2, 0)\n",
    "    \n",
    "    f = p.imshow(img)\n",
    "    f.show()"
   ]
  },
  {
   "cell_type": "code",
   "execution_count": null,
   "metadata": {},
   "outputs": [],
   "source": [
    "model."
   ]
  }
 ],
 "metadata": {
  "kernelspec": {
   "display_name": "reinforsment-learning-cw9s_yh0-py3.10",
   "language": "python",
   "name": "python3"
  },
  "language_info": {
   "codemirror_mode": {
    "name": "ipython",
    "version": 3
   },
   "file_extension": ".py",
   "mimetype": "text/x-python",
   "name": "python",
   "nbconvert_exporter": "python",
   "pygments_lexer": "ipython3",
   "version": "3.10.14"
  }
 },
 "nbformat": 4,
 "nbformat_minor": 2
}
