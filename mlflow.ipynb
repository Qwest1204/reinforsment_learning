{
 "cells": [
  {
   "cell_type": "code",
   "execution_count": 2,
   "metadata": {},
   "outputs": [
    {
     "name": "stdout",
     "output_type": "stream",
     "text": [
      "device cuda is ready\n"
     ]
    }
   ],
   "source": [
    "import mlflow\n",
    "\n",
    "#import torch\n",
    "#import torch.nn as nn\n",
    "#from torchinfo import summary\n",
    "#from torchmetrics import Accuracy\n",
    "from torch.utils.data import Dataset, DataLoader\n",
    "from VAE.model import VAE\n",
    "from VAE.data import Ego4d, DEVICE, BATCH_SIZE, transform1, transform2"
   ]
  },
  {
   "cell_type": "code",
   "execution_count": 3,
   "metadata": {},
   "outputs": [
    {
     "name": "stdout",
     "output_type": "stream",
     "text": [
      "transform initializate sucsess\n",
      "train_dataset init\n",
      "train_loader init\n"
     ]
    }
   ],
   "source": [
    "print('transform initializate sucsess')\n",
    "train_dataset = Ego4d(img_dir='/home/qwest/data_for_ml/60x60/',\n",
    "                           transform1=transform1,\n",
    "                           transform2=transform2)\n",
    "print(\"train_dataset init\")\n",
    "train_loader = DataLoader(dataset=train_dataset,\n",
    "                           batch_size=BATCH_SIZE,\n",
    "                           shuffle=True,\n",
    "                           num_workers=14)\n",
    "print(\"train_loader init\")"
   ]
  },
  {
   "cell_type": "code",
   "execution_count": 4,
   "metadata": {},
   "outputs": [
    {
     "ename": "",
     "evalue": "",
     "output_type": "error",
     "traceback": [
      "\u001b[1;31mThe Kernel crashed while executing code in the current cell or a previous cell. \n",
      "\u001b[1;31mPlease review the code in the cell(s) to identify a possible cause of the failure. \n",
      "\u001b[1;31mClick <a href='https://aka.ms/vscodeJupyterKernelCrash'>here</a> for more info. \n",
      "\u001b[1;31mView Jupyter <a href='command:jupyter.viewOutput'>log</a> for further details."
     ]
    }
   ],
   "source": [
    "torch.save(train_loader, \"trainloader.pt\")"
   ]
  },
  {
   "cell_type": "code",
   "execution_count": null,
   "metadata": {},
   "outputs": [],
   "source": [
    "train_loader = torch.load(\"VAE/train_loadet.pt\")"
   ]
  },
  {
   "cell_type": "code",
   "execution_count": 5,
   "metadata": {},
   "outputs": [
    {
     "data": {
      "text/plain": [
       "26459"
      ]
     },
     "execution_count": 5,
     "metadata": {},
     "output_type": "execute_result"
    }
   ],
   "source": [
    "len(train_loader)"
   ]
  },
  {
   "cell_type": "code",
   "execution_count": 6,
   "metadata": {},
   "outputs": [],
   "source": [
    "loss_fn = nn.CrossEntropyLoss()"
   ]
  },
  {
   "cell_type": "code",
   "execution_count": 5,
   "metadata": {},
   "outputs": [],
   "source": [
    "mlflow.set_tracking_uri(\"http://localhost:8080\")"
   ]
  },
  {
   "cell_type": "code",
   "execution_count": 1,
   "metadata": {},
   "outputs": [
    {
     "ename": "NameError",
     "evalue": "name 'mlflow' is not defined",
     "output_type": "error",
     "traceback": [
      "\u001b[0;31m---------------------------------------------------------------------------\u001b[0m",
      "\u001b[0;31mNameError\u001b[0m                                 Traceback (most recent call last)",
      "Cell \u001b[0;32mIn[1], line 1\u001b[0m\n\u001b[0;32m----> 1\u001b[0m \u001b[43mmlflow\u001b[49m\u001b[38;5;241m.\u001b[39mset_experiment(\u001b[38;5;124m\"\u001b[39m\u001b[38;5;124m/VAE-pytorch\u001b[39m\u001b[38;5;124m\"\u001b[39m)\n",
      "\u001b[0;31mNameError\u001b[0m: name 'mlflow' is not defined"
     ]
    }
   ],
   "source": [
    "mlflow.set_experiment(\"/VAE-pytorch\")"
   ]
  },
  {
   "cell_type": "code",
   "execution_count": 8,
   "metadata": {},
   "outputs": [],
   "source": [
    "from torch import nn, optim "
   ]
  },
  {
   "cell_type": "code",
   "execution_count": 9,
   "metadata": {},
   "outputs": [],
   "source": [
    "lr = 0.001\n",
    "epochs = 50\n",
    "latent_dim = 32\n",
    "\n",
    "model = VAE(latent_dim, batch_size=BATCH_SIZE).to(DEVICE)\n",
    "optimizer = optim.Adam(model.parameters(), lr=lr)"
   ]
  },
  {
   "cell_type": "code",
   "execution_count": 11,
   "metadata": {},
   "outputs": [],
   "source": [
    "def train(epoch):\n",
    "    #for epoch in range(1, epochs+1):\n",
    "    x = next(iter(train_loader))\n",
    "    model.train()\n",
    "    print(f'Epoch {epoch} start')\n",
    "    eval_loss = 0\n",
    "    for batch_idx, data in enumerate(train_loader):\n",
    "            data = data.to(DEVICE)\n",
    "            optimizer.zero_grad()\n",
    "            \n",
    "            recon_batch, mu, logvar = model(data)\n",
    "            loss = model.loss_function(recon_batch, data, mu, logvar)\n",
    "            eval_loss += loss\n",
    "            loss.backward()\n",
    "            optimizer.step()\n",
    "\n",
    "            \n",
    "    model.eval()\n",
    "    total_loss = eval_loss/BATCH_SIZE\n",
    "    mlflow.log_metric(\"total_loss\", f\"{total_loss:2f}\", step=epoch)\n",
    "    print(f\"Avg loss: {total_loss:2f} \\n\")\n",
    "#    recon_img, _, _ = model(x[:1].to(DEVICE))\n",
    "#    img = recon_img.view(3, 64, 64).detach().cpu().numpy().transpose(1, 2, 0)\n",
    "        \n",
    "        #torch.save(train_loader, f'train_loadet_{epochs}.pt')\n",
    "    #torch.save(model, f'VAE_{epoch}.pt')\n"
   ]
  },
  {
   "cell_type": "code",
   "execution_count": 10,
   "metadata": {},
   "outputs": [],
   "source": [
    "#plt.imshow(model(torch.tensor(input)[:1].to(DEVICE))[0][0].view(3, 64, 64).detach().cpu().numpy().transpose(1, 2, 0))"
   ]
  },
  {
   "cell_type": "code",
   "execution_count": 12,
   "metadata": {},
   "outputs": [],
   "source": [
    "# signature = mlflow.models.infer_signature(\n",
    "#     input,\n",
    "#     model(torch.tensor(input)[:1].to(DEVICE))[0][0].view(3, 64, 64).detach().cpu().numpy().transpose(1, 2, 0),\n",
    "# )"
   ]
  },
  {
   "cell_type": "code",
   "execution_count": 223,
   "metadata": {},
   "outputs": [],
   "source": [
    "# def evaluation(dataloader, model, loss_fn, epochs):\n",
    "#     num_batches = len(dataloader)\n",
    "#     model.eval()\n",
    "#     eval_loss = 0.0\n",
    "#     with torch.no_grad():\n",
    "#         for X in dataloader:\n",
    "#             Y = model(torch.tensor(X)[:1].to(DEVICE))[0][0].view(3, 64, 64).detach().cpu().numpy()\n",
    "#             eval_loss += loss_fn(torch.tensor(Y), torch.tensor(X[0])).item()\n",
    "#     eval_loss /= num_batches\n",
    "#     mlflow.log_metric(\"eval_loss\", f\"{eval_loss:2f}\", step=epochs)\n",
    "#     print(f\"Avg loss: {eval_loss:2f} \\n\")"
   ]
  },
  {
   "cell_type": "code",
   "execution_count": 12,
   "metadata": {},
   "outputs": [
    {
     "name": "stdout",
     "output_type": "stream",
     "text": [
      "Epoch 1 start\n"
     ]
    },
    {
     "ename": "",
     "evalue": "",
     "output_type": "error",
     "traceback": [
      "\u001b[1;31mThe Kernel crashed while executing code in the current cell or a previous cell. \n",
      "\u001b[1;31mPlease review the code in the cell(s) to identify a possible cause of the failure. \n",
      "\u001b[1;31mClick <a href='https://aka.ms/vscodeJupyterKernelCrash'>here</a> for more info. \n",
      "\u001b[1;31mView Jupyter <a href='command:jupyter.viewOutput'>log</a> for further details."
     ]
    }
   ],
   "source": [
    "with mlflow.start_run() as run:\n",
    "    params = {\n",
    "        \"epochs\": epochs,\n",
    "        \"learning_rate\": lr,\n",
    "        \"batch_size\": BATCH_SIZE,\n",
    "        #\"loss_function\": loss_fn.__class__.__name__,\n",
    "        \"metric_function\": \"BCE\",\n",
    "        \"optimizer\": \"Adam\",\n",
    "    }\n",
    "    # Log training parameters.\n",
    "    mlflow.log_params(params)\n",
    "\n",
    "    # Log model summary.|\n",
    "    with open(\"model_summary.txt\", \"w\") as f:\n",
    "        f.write(str(summary(model)))\n",
    "    mlflow.log_artifact(\"model_summary.txt\")\n",
    "\n",
    "    for t in range(1, epochs+1):\n",
    "        train(t)\n",
    "        torch.save(model, f'VAE{t}.pt')\n",
    "        #train(train_dataloader, model, loss_fn, metric_fn, optimizer, epoch=t)\n",
    "        #evaluation(train_loader, model, loss_fn, epochs=t)\n",
    "\n",
    "    # Save the trained model to MLflow.\n",
    "    mlflow.pytorch.log_model(model, \"model\")#, signature=signature)\n",
    "    "
   ]
  },
  {
   "cell_type": "code",
   "execution_count": 186,
   "metadata": {},
   "outputs": [],
   "source": []
  },
  {
   "cell_type": "code",
   "execution_count": 73,
   "metadata": {},
   "outputs": [],
   "source": [
    "# X = model(torch.tensor(input)[:1].to(DEVICE))[0][0].view(3, 64, 64).detach().cpu().numpy()\n",
    "# Y = x.detach().cpu()"
   ]
  },
  {
   "cell_type": "code",
   "execution_count": 81,
   "metadata": {},
   "outputs": [
    {
     "data": {
      "text/plain": [
       "(3, 64, 64)"
      ]
     },
     "execution_count": 81,
     "metadata": {},
     "output_type": "execute_result"
    }
   ],
   "source": [
    "# X.shape"
   ]
  },
  {
   "cell_type": "code",
   "execution_count": 187,
   "metadata": {},
   "outputs": [],
   "source": [
    "# loss_fn(torch.tensor(Y), torch.tensor(X)).item()"
   ]
  },
  {
   "cell_type": "code",
   "execution_count": null,
   "metadata": {},
   "outputs": [],
   "source": [
    "with torch.no_grad():\n",
    "    "
   ]
  },
  {
   "cell_type": "code",
   "execution_count": null,
   "metadata": {},
   "outputs": [],
   "source": []
  }
 ],
 "metadata": {
  "kernelspec": {
   "display_name": "reinforsment-learning-cw9s_yh0-py3.10",
   "language": "python",
   "name": "python3"
  },
  "language_info": {
   "codemirror_mode": {
    "name": "ipython",
    "version": 3
   },
   "file_extension": ".py",
   "mimetype": "text/x-python",
   "name": "python",
   "nbconvert_exporter": "python",
   "pygments_lexer": "ipython3",
   "version": "3.10.14"
  }
 },
 "nbformat": 4,
 "nbformat_minor": 2
}
